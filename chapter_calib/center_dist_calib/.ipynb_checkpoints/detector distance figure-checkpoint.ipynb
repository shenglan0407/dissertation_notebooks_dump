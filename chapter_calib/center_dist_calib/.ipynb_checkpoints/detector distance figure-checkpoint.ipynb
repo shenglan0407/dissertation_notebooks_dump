{
 "cells": [
  {
   "cell_type": "code",
   "execution_count": 88,
   "metadata": {
    "collapsed": true
   },
   "outputs": [],
   "source": [
    "%matplotlib inline\n",
    "import numpy as np\n",
    "import matplotlib.pyplot as plt\n",
    "\n",
    "from numpy import polyfit,polyval \n",
    "\n",
    "from matplotlib.gridspec import GridSpec"
   ]
  },
  {
   "cell_type": "code",
   "execution_count": 11,
   "metadata": {
    "collapsed": true
   },
   "outputs": [],
   "source": []
  },
  {
   "cell_type": "code",
   "execution_count": 49,
   "metadata": {},
   "outputs": [
    {
     "data": {
      "text/plain": [
       "0.10762564760499461"
      ]
     },
     "execution_count": 49,
     "metadata": {},
     "output_type": "execute_result"
    }
   ],
   "source": [
    "2*np.pi/58.380"
   ]
  },
  {
   "cell_type": "code",
   "execution_count": 145,
   "metadata": {},
   "outputs": [
    {
     "name": "stdout",
     "output_type": "stream",
     "text": [
      "1.74045940432\n"
     ]
    }
   ],
   "source": [
    "z = -np.array([200,400,300,100])\n",
    "\n",
    "n = np.array([[228.,152,75],\n",
    "             [60,134,269],\n",
    "             [211,168,112],\n",
    "             [288,192,96]]).astype(np.float32)\n",
    "\n",
    "q_guess = np.array([[3,2,1],\n",
    "                  [2,4,8],\n",
    "                   [4,3,2],\n",
    "                   [3,2,1]])*2*np.pi/58.380\n",
    "\n",
    "photon_energy = 9.5e3 #eV\n",
    "c = 3.998e8 #SI\n",
    "h = 6.6260700e-34 #SI\n",
    "ev_to_j = 1.60218e-19 #SI\n",
    "wavlength = c*h/(photon_energy*ev_to_j)*1e10 #angstrom\n",
    "pix_size = 110e-6 # meter\n",
    "print wavlength\n",
    "\n",
    "theta = np.arcsin(q_guess*wavlength/(np.pi*4))\n",
    "ds = n*pix_size/np.tan(theta*2)\n",
    "mean_det_dist=ds.mean(-1)\n",
    "derr=ds.std(-1)"
   ]
  },
  {
   "cell_type": "code",
   "execution_count": 146,
   "metadata": {},
   "outputs": [
    {
     "name": "stdout",
     "output_type": "stream",
     "text": [
      "1.74045940432\n"
     ]
    }
   ],
   "source": [
    "z2 = -np.array([200,300,400,300,200])\n",
    "\n",
    "n2 = np.array([[227,292,227],\n",
    "             [214,165,109],\n",
    "             [137,107,71],\n",
    "             [213,169,111],\n",
    "              [228,152,75]]).astype(np.float32)\n",
    "\n",
    "q_guess = np.array([[3,4,3],\n",
    "                  [4,3,2],\n",
    "                   [4,3,2],\n",
    "                   [4,3,2],\n",
    "                   [3,2,1]])*2*np.pi/58.380\n",
    "\n",
    "photon_energy = 9.5e3 #eV\n",
    "c = 3.998e8 #SI\n",
    "h = 6.6260700e-34 #SI\n",
    "ev_to_j = 1.60218e-19 #SI\n",
    "wavlength = c*h/(photon_energy*ev_to_j)*1e10 #angstrom\n",
    "pix_size = 110e-6 # meter\n",
    "print wavlength\n",
    "\n",
    "theta = np.arcsin(q_guess*wavlength/(np.pi*4))\n",
    "ds2 = n2*pix_size/np.tan(theta*2)\n",
    "mean_det_dist2=ds2.mean(-1)\n",
    "derr2 = ds2.std(-1)"
   ]
  },
  {
   "cell_type": "code",
   "execution_count": 152,
   "metadata": {},
   "outputs": [
    {
     "name": "stdout",
     "output_type": "stream",
     "text": [
      "[ 0.00078286  0.43388869]\n",
      "[ 0.00074061  0.42438529]\n"
     ]
    },
    {
     "data": {
      "text/plain": [
       "<matplotlib.text.Text at 0x7fe37870a810>"
      ]
     },
     "execution_count": 152,
     "metadata": {},
     "output_type": "execute_result"
    },
    {
     "data": {
      "image/png": "[encoded data removed]",
      "text/plain": [
       "<matplotlib.figure.Figure at 0x7fe37875e350>"
      ]
     },
     "metadata": {},
     "output_type": "display_data"
    }
   ],
   "source": [
    "plt.figure(figsize=[8,4])\n",
    "fit_z = -np.arange(100,400,10)\n",
    "gs = GridSpec(1,2)\n",
    "plt.subplot(gs[0,0])\n",
    "cc = polyfit(z,mean_det_dist,deg=1)\n",
    "print cc\n",
    "plt.errorbar(z, mean_det_dist,yerr=derr,\n",
    "             marker='.', ls='none')\n",
    "fit = polyval(cc,fit_z)\n",
    "plt.plot(fit_z,fit,linestyle='--')\n",
    "plt.xlabel('Z encoding')\n",
    "plt.ylabel('Detector distance (m)')\n",
    "\n",
    "plt.subplot(gs[0,1])\n",
    "plt.errorbar(z2, mean_det_dist2,yerr=derr2,\n",
    "             marker='.', ls='none')\n",
    "cc = polyfit(z2,mean_det_dist2,deg=1)\n",
    "print cc\n",
    "fit = polyval(cc,fit_z)\n",
    "plt.plot(fit_z,fit,linestyle='--')\n",
    "plt.xlabel('Z encoding')\n",
    "plt.ylabel('Detector distance (m)')"
   ]
  },
  {
   "cell_type": "code",
   "execution_count": 148,
   "metadata": {},
   "outputs": [
    {
     "data": {
      "text/plain": [
       "2.0632860764694252"
      ]
     },
     "execution_count": 148,
     "metadata": {},
     "output_type": "execute_result"
    }
   ],
   "source": [
    "np.sin(np.arctan(704*pix_size/ds.mean(-1)[1])/2.) *4*np.pi/ wavlength"
   ]
  },
  {
   "cell_type": "code",
   "execution_count": 149,
   "metadata": {},
   "outputs": [
    {
     "data": {
      "text/plain": [
       "0.15760000000000002"
      ]
     },
     "execution_count": 149,
     "metadata": {},
     "output_type": "execute_result"
    }
   ],
   "source": [
    "-360*0.00074+0.424"
   ]
  },
  {
   "cell_type": "code",
   "execution_count": null,
   "metadata": {
    "collapsed": true
   },
   "outputs": [],
   "source": []
  }
 ],
 "metadata": {
  "kernelspec": {
   "display_name": "Python 2 ana-1.3.10",
   "language": "python",
   "name": "ana-1.3.10"
  },
  "language_info": {
   "codemirror_mode": {
    "name": "ipython",
    "version": 2
   },
   "file_extension": ".py",
   "mimetype": "text/x-python",
   "name": "python",
   "nbconvert_exporter": "python",
   "pygments_lexer": "ipython2",
   "version": "2.7.13"
  }
 },
 "nbformat": 4,
 "nbformat_minor": 1
}
