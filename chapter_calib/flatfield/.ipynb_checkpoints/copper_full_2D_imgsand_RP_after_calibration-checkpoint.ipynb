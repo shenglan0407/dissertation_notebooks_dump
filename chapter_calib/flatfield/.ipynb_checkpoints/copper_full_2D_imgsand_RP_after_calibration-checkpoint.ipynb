{
 "cells": [
  {
   "cell_type": "code",
   "execution_count": null,
   "metadata": {},
   "outputs": [],
   "source": [
    "%matplotlib inline\n",
    "import matplotlib.pyplot as plt\n",
    "import h5py\n",
    "import numpy as np\n",
    "\n",
    "import os\n",
    "from matplotlib.gridspec import GridSpec\n",
    "\n",
    "import matplotlib as mpl\n",
    "mpl.rcParams['font.serif'] = \"Bitstream Vera Serif\"\n",
    "mpl.rcParams['font.family'] = \"serif\"\n",
    "mpl.rcParams['font.size'] = 18"
   ]
  },
  {
   "cell_type": "code",
   "execution_count": null,
   "metadata": {},
   "outputs": [],
   "source": [
    "def flatten_and_mask_shots(shots, mask,):\n",
    "    num_shots = shots.shape[0]\n",
    "    size = shots.shape[1]*shots.shape[2]\n",
    "    flat_mask = mask.reshape(size)\n",
    "    flat_shots =  shots.reshape( (num_shots,size))*flat_mask\n",
    "    \n",
    "    return flat_shots[:,flat_mask]\n",
    "\n",
    "def unflatten_shots(flat_shots,mask):\n",
    "    num_shots = flat_shots.shape[0]\n",
    "    shape = mask.shape\n",
    "    flat_mask = mask.reshape(shape[0]*shape[1]\n",
    "                            )\n",
    "    shots = np.zeros( (num_shots,shape[0]*shape[1]), dtype = flat_shots.dtype)\n",
    "    shots[:, flat_mask ] = flat_shots\n",
    "    \n",
    "    return shots.reshape( (num_shots,shape[0],shape[1]))"
   ]
  },
  {
   "cell_type": "code",
   "execution_count": null,
   "metadata": {},
   "outputs": [],
   "source": [
    "f = h5py.File('/reg/d/psdm/cxi/cxilr6716/scratch/flatfield_calibration/calibrated_shots/run73_shots_cali.h5','r')\n",
    "f.keys()\n",
    "num_shots = f['cali_single_shots_15'].shape[0]\n",
    "calibrated_ave_shot = f['cali_single_shots_15'].value.mean(0)\n",
    "\n",
    "f = h5py.File('/reg/d/psdm/cxi/cxilr6716/scratch/flatfield_calibration/flat_det_imgs/fullImgs_run73.h5','r')\n",
    "print f.keys()\n",
    "ave_shots = f['flat_img'][:num_shots].mean(0)\n",
    "ave_int_per_shot = f['flat_img'][:num_shots].mean(-1)\n",
    "\n",
    "mask=np.load('/reg/d/psdm/cxi/cxilr6716/results/masks/basic_psana_mask.npy')"
   ]
  },
  {
   "cell_type": "code",
   "execution_count": null,
   "metadata": {},
   "outputs": [],
   "source": [
    "f = h5py.File('/reg/d/psdm/cxi/cxilr6716/scratch/flatfield_calibration/calibrated_shots/run76_shots_cali.h5','r')\n",
    "print f.keys()\n",
    "num_shots = f['cali_single_shots_15'].shape[0]\n",
    "calibrated_ave_shot = f['cali_single_shots_15'].value.mean(0)\n",
    "\n",
    "f = h5py.File('/reg/d/psdm/cxi/cxilr6716/scratch/flatfield_calibration/flat_det_imgs/fullImgs_run76.h5','r')\n",
    "print f.keys()\n",
    "ave_shots = f['flat_img'][:num_shots].mean(0)\n",
    "ave_int_per_shot = f['flat_img'][:num_shots].mean(-1)\n"
   ]
  },
  {
   "cell_type": "code",
   "execution_count": null,
   "metadata": {},
   "outputs": [],
   "source": [
    "full_ave_shots = unflatten_shots(ave_shots[None,:],mask)[0]"
   ]
  },
  {
   "cell_type": "code",
   "execution_count": null,
   "metadata": {},
   "outputs": [],
   "source": [
    "# idx = 10\n",
    "\n",
    "# shot_to_plot=shots[idx]\n",
    "mu=ave_shots.mean()\n",
    "sigma=ave_shots.std()\n",
    "\n",
    "x = 45\n",
    "y= 65\n",
    "gs = GridSpec(2,2)\n",
    "gs.update(hspace=0.0, wspace=0.02)\n",
    "####raw ave shot\n",
    "fig = plt.figure(figsize=[16,14])\n",
    "# gs.update(wspace=0.05)\n",
    "ax=plt.subplot(gs[0,0])\n",
    "im=plt.imshow( full_ave_shots, \n",
    "         aspect=1, cmap='hot',vmin=x,vmax=y)\n",
    "\n",
    "fig.subplots_adjust(right=0.8)\n",
    "cbar_ax = fig.add_axes([0.09, 0.52, 0.02, 0.35])\n",
    "fig.colorbar(im, cax=cbar_ax)\n",
    "cbar_ax.yaxis.set_ticks_position('left')\n",
    "\n",
    "ax.set_title('(a)', x= 0.05,y =0.9, color='White')\n",
    "ax.set_axis_off()\n",
    "\n",
    "#### calibrated average shot\n",
    "ax=plt.subplot(gs[0,1])\n",
    "\n",
    "im = plt.imshow( calibrated_ave_shot, \n",
    "         aspect=1, cmap='hot',vmin=x,vmax=y)\n",
    "ax.set_title('(b)', x= 0.05,y =0.9, color='White')\n",
    "\n",
    "fig.subplots_adjust(right=0.8)\n",
    "cbar_ax = fig.add_axes([0.81, 0.52, 0.02, 0.35])\n",
    "fig.colorbar(im, cax=cbar_ax)\n",
    "cbar_ax.yaxis.set_ticks_position('right')\n",
    "\n",
    "ax.set_axis_off()\n",
    "#### large intensities\n",
    "ax=plt.subplot(gs[1,0])\n",
    "\n",
    "large_int_plot=full_ave_shots>(mu+sigma)\n",
    "plt.imshow( large_int_plot, \n",
    "         aspect=1, cmap='hot',vmin=0,vmax=1)\n",
    "ax.set_title('(c)', x= 0.05,y =0.9, color='White')\n",
    "ax.set_axis_off()\n",
    "\n",
    "### after calibrations\n",
    "ax=plt.subplot(gs[1,1])\n",
    "\n",
    "large_int_plot=calibrated_ave_shot>(mu+sigma)\n",
    "plt.imshow( large_int_plot, \n",
    "         aspect=1, cmap='hot',vmin=0,vmax=1)\n",
    "ax.set_title('(d)', x= 0.05,y =0.9, color='White')\n",
    "ax.set_axis_off()\n",
    "\n",
    "# print mu, sigma\n",
    "# plt.colorbar()\n",
    "# plt.savefig('copper_flatfield_aveADU_%.2f.png'% ave_int_per_shot.mean(),bbox_in_inches='tight')"
   ]
  },
  {
   "cell_type": "code",
   "execution_count": null,
   "metadata": {},
   "outputs": [],
   "source": [
    "img=flatten_and_mask_shots(calibrated_ave_shot[None,:],mask)[0]\n",
    "bins = np.linspace(x-10,y,100)\n",
    "hist = np.histogram(img,bins=bins)\n",
    "hist2 = np.histogram(ave_shots,bins=bins)"
   ]
  },
  {
   "cell_type": "code",
   "execution_count": null,
   "metadata": {},
   "outputs": [],
   "source": [
    "plt.step(bins[1:],hist[0])\n",
    "plt.step(bins[1:],hist2[0])"
   ]
  },
  {
   "cell_type": "code",
   "execution_count": null,
   "metadata": {},
   "outputs": [],
   "source": [
    "runs =[72,73,76,78,71,80,81]\n",
    "n_shots=[]\n",
    "cali_rps=[]\n",
    "rps=[]\n",
    "for rr in runs:\n",
    "    f=h5py.File('/reg/d/psdm/cxi/cxilr6716/scratch/polar_data/run%d_0.h5'%rr,'r')\n",
    "    rp=f['radial_profs'].value.mean(0)\n",
    "    rps.append(rp)\n",
    "    \n",
    "    f=h5py.File('/reg/d/psdm/cxi/cxilr6716/scratch/cali_polar_data/run%d_0.h5'%rr,'r')\n",
    "    rp=f['radial_profs'].value.mean(0)\n",
    "    cali_rps.append(rp)\n",
    "    \n",
    "    n_shots.append(f['radial_profs'].shape[0])\n",
    "rps = np.array(rps)\n",
    "cali_rps = np.array(cali_rps)\n",
    "n_shots = np.array(n_shots)"
   ]
  },
  {
   "cell_type": "code",
   "execution_count": null,
   "metadata": {},
   "outputs": [],
   "source": [
    "ints = rps.mean(-1)"
   ]
  },
  {
   "cell_type": "code",
   "execution_count": null,
   "metadata": {},
   "outputs": [],
   "source": [
    "ii = 0\n",
    "plt.plot(rps[ii])\n",
    "plt.plot(cali_rps[ii])\n",
    "\n",
    "# plt.ylim(13,18)"
   ]
  },
  {
   "cell_type": "code",
   "execution_count": null,
   "metadata": {},
   "outputs": [],
   "source": []
  }
 ],
 "metadata": {
  "kernelspec": {
   "display_name": "Python 2 ana-1.3.10",
   "language": "python",
   "name": "ana-1.3.10"
  },
  "language_info": {
   "codemirror_mode": {
    "name": "ipython",
    "version": 2
   },
   "file_extension": ".py",
   "mimetype": "text/x-python",
   "name": "python",
   "nbconvert_exporter": "python",
   "pygments_lexer": "ipython2",
   "version": "2.7.13"
  }
 },
 "nbformat": 4,
 "nbformat_minor": 2
}
