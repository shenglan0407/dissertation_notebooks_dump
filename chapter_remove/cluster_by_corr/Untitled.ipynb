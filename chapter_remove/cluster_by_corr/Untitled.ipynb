{
 "cells": [
  {
   "cell_type": "code",
   "execution_count": 1,
   "metadata": {},
   "outputs": [],
   "source": [
    "%matplotlib inline\n",
    "import matplotlib.pyplot as plt\n",
    "import matplotlib as mpl\n"
   ]
  },
  {
   "cell_type": "code",
   "execution_count": 3,
   "metadata": {},
   "outputs": [
    {
     "data": {
      "text/plain": [
       "[<Font 'STIXGeneral' (STIXGeneralBol.ttf) normal normal 700 normal>,\n",
       " <Font 'STIXGeneral' (STIXGeneralItalic.ttf) italic normal 400 normal>,\n",
       " <Font 'Bitstream Vera Sans' (VeraBd.ttf) normal normal 700 normal>,\n",
       " <Font 'cmsy10' (cmsy10.ttf) normal normal 400 normal>,\n",
       " <Font 'Bitstream Vera Serif' (VeraSeBd.ttf) normal normal 700 normal>,\n",
       " <Font 'Bitstream Vera Sans' (VeraIt.ttf) oblique normal 400 normal>,\n",
       " <Font 'STIXGeneral' (STIXGeneralBolIta.ttf) italic normal 700 normal>,\n",
       " <Font 'STIXSizeThreeSym' (STIXSizThreeSymBol.ttf) normal normal 700 normal>,\n",
       " <Font 'STIXSizeOneSym' (STIXSizOneSymBol.ttf) normal normal 700 normal>,\n",
       " <Font 'STIXSizeFourSym' (STIXSizFourSymBol.ttf) normal normal 700 normal>,\n",
       " <Font 'STIXNonUnicode' (STIXNonUniBolIta.ttf) italic normal 700 normal>,\n",
       " <Font 'STIXSizeTwoSym' (STIXSizTwoSymReg.ttf) normal normal 400 normal>,\n",
       " <Font 'Bitstream Vera Sans' (Vera.ttf) normal normal 400 normal>,\n",
       " <Font 'Bitstream Vera Sans Mono' (VeraMoBI.ttf) oblique normal 700 normal>,\n",
       " <Font 'STIXNonUnicode' (STIXNonUniBol.ttf) normal normal 700 normal>,\n",
       " <Font 'Bitstream Vera Sans Mono' (VeraMoIt.ttf) oblique normal 400 normal>,\n",
       " <Font 'cmss10' (cmss10.ttf) normal normal 400 normal>,\n",
       " <Font 'STIXSizeThreeSym' (STIXSizThreeSymReg.ttf) normal normal 400 normal>,\n",
       " <Font 'STIXSizeOneSym' (STIXSizOneSymReg.ttf) normal normal 400 normal>,\n",
       " <Font 'Bitstream Vera Sans Mono' (VeraMoBd.ttf) normal normal 700 normal>,\n",
       " <Font 'STIXNonUnicode' (STIXNonUniIta.ttf) italic normal 400 normal>,\n",
       " <Font 'Bitstream Vera Sans' (VeraBI.ttf) oblique normal 700 normal>,\n",
       " <Font 'STIXSizeFourSym' (STIXSizFourSymReg.ttf) normal normal 400 normal>,\n",
       " <Font 'cmb10' (cmb10.ttf) normal normal 400 normal>,\n",
       " <Font 'STIXGeneral' (STIXGeneral.ttf) normal normal 400 normal>,\n",
       " <Font 'STIXSizeTwoSym' (STIXSizTwoSymBol.ttf) normal normal 700 normal>,\n",
       " <Font 'cmtt10' (cmtt10.ttf) normal normal 400 normal>,\n",
       " <Font 'Bitstream Vera Serif' (VeraSe.ttf) normal normal 400 normal>,\n",
       " <Font 'cmr10' (cmr10.ttf) normal normal 400 normal>,\n",
       " <Font 'STIXNonUnicode' (STIXNonUni.ttf) normal normal 400 normal>,\n",
       " <Font 'cmex10' (cmex10.ttf) normal normal 400 normal>,\n",
       " <Font 'cmmi10' (cmmi10.ttf) normal normal 400 normal>,\n",
       " <Font 'STIXSizeFiveSym' (STIXSizFiveSymReg.ttf) normal normal 400 normal>,\n",
       " <Font 'Bitstream Vera Sans Mono' (VeraMono.ttf) normal normal 400 normal>,\n",
       " <Font 'Goha-Tibeb Zemen' (GohaTibebZemen.ttf) normal normal 400 normal>,\n",
       " <Font 'Liberation Sans' (LiberationSans-Regular.ttf) normal normal 400 normal>,\n",
       " <Font 'DejaVu Sans' (DejaVuSansCondensed-Bold.ttf) normal normal 700 condensed>,\n",
       " <Font 'Liberation Sans' (LiberationSans-Bold.ttf) normal normal 700 normal>,\n",
       " <Font 'Liberation Sans' (LiberationSans-Italic.ttf) italic normal 400 normal>,\n",
       " <Font 'DejaVu Sans Mono' (DejaVuSansMono-Oblique.ttf) oblique normal 400 normal>,\n",
       " <Font 'Liberation Mono' (LiberationMono-Regular.ttf) normal normal 400 normal>,\n",
       " <Font 'DejaVu Sans' (DejaVuSans-Bold.ttf) normal normal 700 normal>,\n",
       " <Font 'DejaVu Sans Mono' (DejaVuSansMono-Bold.ttf) normal normal 700 normal>,\n",
       " <Font 'DejaVu Sans' (DejaVuSans-Oblique.ttf) oblique normal 400 normal>,\n",
       " <Font 'DejaVu Sans' (DejaVuSans.ttf) normal normal 400 normal>,\n",
       " <Font 'Liberation Sans' (LiberationSans-BoldItalic.ttf) italic normal 700 normal>,\n",
       " <Font 'DejaVu Sans' (DejaVuSansCondensed.ttf) normal normal 400 condensed>,\n",
       " <Font 'Cantarell' (Cantarell-Bold.otf) normal normal 700 normal>,\n",
       " <Font 'Cantarell' (Cantarell-Regular.otf) normal normal 400 normal>,\n",
       " <Font 'DejaVu Sans' (DejaVuSans-BoldOblique.ttf) oblique normal 700 normal>,\n",
       " <Font 'DejaVu Sans' (DejaVuSansCondensed-Oblique.ttf) oblique normal 400 condensed>,\n",
       " <Font 'Liberation Mono' (LiberationMono-BoldItalic.ttf) italic normal 700 normal>,\n",
       " <Font 'DejaVu Sans Mono' (DejaVuSansMono-BoldOblique.ttf) oblique normal 700 normal>,\n",
       " <Font 'DejaVu Sans' (DejaVuSans-ExtraLight.ttf) normal normal 200 normal>,\n",
       " <Font 'Liberation Mono' (LiberationMono-Italic.ttf) italic normal 400 normal>,\n",
       " <Font 'Liberation Mono' (LiberationMono-Bold.ttf) normal normal 700 normal>,\n",
       " <Font 'DejaVu Sans' (DejaVuSansCondensed-BoldOblique.ttf) oblique normal 700 condensed>,\n",
       " <Font 'DejaVu Sans Mono' (DejaVuSansMono.ttf) normal normal 400 normal>]"
      ]
     },
     "execution_count": 3,
     "metadata": {},
     "output_type": "execute_result"
    }
   ],
   "source": [
    "mpl.font_manager.fontManager.ttflist"
   ]
  },
  {
   "cell_type": "code",
   "execution_count": 6,
   "metadata": {},
   "outputs": [],
   "source": [
    "# Say, \"the default sans-serif font is COMIC SANS\"\n",
    "mpl.rcParams['font.serif'] = \"Bitstream Vera Serif\"\n",
    "mpl.rcParams['font.family'] = \"serif\"\n"
   ]
  },
  {
   "cell_type": "code",
   "execution_count": 10,
   "metadata": {},
   "outputs": [
    {
     "data": {
      "text/plain": [
       "<matplotlib.text.Text at 0x7f8a096737d0>"
      ]
     },
     "execution_count": 10,
     "metadata": {},
     "output_type": "execute_result"
    },
    {
     "data": {
      "image/png": "[encoded data removed]",
      "text/plain": [
       "<matplotlib.figure.Figure at 0x7f8a2478c750>"
      ]
     },
     "metadata": {},
     "output_type": "display_data"
    }
   ],
   "source": [
    "plt.plot(range(100), range(100))\n",
    "plt.xlabel('x stuff', fontsize = 25)\n",
    "plt.ylabel('y Stuff', fontsize =25)"
   ]
  },
  {
   "cell_type": "code",
   "execution_count": null,
   "metadata": {},
   "outputs": [],
   "source": []
  }
 ],
 "metadata": {
  "kernelspec": {
   "display_name": "Python 2 ana-1.3.10",
   "language": "python",
   "name": "ana-1.3.10"
  },
  "language_info": {
   "codemirror_mode": {
    "name": "ipython",
    "version": 2
   },
   "file_extension": ".py",
   "mimetype": "text/x-python",
   "name": "python",
   "nbconvert_exporter": "python",
   "pygments_lexer": "ipython2",
   "version": "2.7.13"
  }
 },
 "nbformat": 4,
 "nbformat_minor": 2
}
