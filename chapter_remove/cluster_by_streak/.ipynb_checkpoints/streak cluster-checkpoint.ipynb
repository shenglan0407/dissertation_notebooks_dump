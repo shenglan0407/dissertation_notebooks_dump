{
 "cells": [
  {
   "cell_type": "code",
   "execution_count": 1,
   "metadata": {},
   "outputs": [],
   "source": [
    "from sklearn.cluster import KMeans\n",
    "from sklearn.decomposition import PCA\n",
    "import numpy as np\n",
    "import h5py\n",
    "import os\n",
    "\n",
    "%matplotlib inline\n",
    "import matplotlib.pyplot as plt\n",
    "\n",
    "import cv2\n",
    "import sys\n",
    "sys.path.append('/reg/neh/home/qiaoshen/GitHub/loki/src/utils/')\n",
    "from postproc_helper import *\n",
    "\n",
    "from scipy.interpolate import interp1d\n",
    "from scipy.signal import find_peaks_cwt"
   ]
  },
  {
   "cell_type": "code",
   "execution_count": 23,
   "metadata": {},
   "outputs": [],
   "source": [
    "def make_elbow_plot( data, max_nclust=12,):\n",
    "    \"\"\"data is Nexample x Nfeatures \"\"\"\n",
    "    elbow_plot = []\n",
    "    max_nclust = 12\n",
    "    for i in xrange( 1, max_nclust+1):\n",
    "        print(\"TRygin kmeans with %d clusters (up to %d)\"%(i, max_nclust))\n",
    "        kmeans = KMeans( n_clusters=i)\n",
    "        kmeans.fit( data)\n",
    "        elbow_plot.append( kmeans.score(data))\n",
    "    plt.xlabel('# of clusters')\n",
    "    plt.ylabel('how good is the clustering')\n",
    "    plt.plot( np.arange( 1, max_nclust+1), elbow_plot, '.')\n",
    "\n",
    "#     plt.show()\n",
    "\n",
    "def convert_shots_to_outliers(shots, mask):\n",
    "    outlier_shots=np.zeros_like(shots)\n",
    "    for idx,test_shot in enumerate(shots):\n",
    "        masked_average = np.sum(test_shot*mask)/mask.sum()\n",
    "        masked_std = np.sqrt(np.sum( (test_shot- masked_average)**2*mask)/mask.sum() )\n",
    "\n",
    "        outliers=test_shot>masked_average+masked_std*1\n",
    "        outlier_shots[idx]=test_shot*outliers\n",
    "        \n",
    "        \n",
    "    return outlier_shots\n",
    "\n",
    "\n",
    "def find_highest_two_peaks( smoothed_shots):\n",
    "    peak_positions_in_pixels=np.zeros( (smoothed_shots.shape[0],2) )\n",
    "    for shot_idx in range(smoothed_shots.shape[0]):\n",
    "        peak_pos=find_peaks_cwt(smoothed_shots[shot_idx], range(1,11))\n",
    "        peak_values=smoothed_shots[shot_idx,peak_pos]\n",
    "        max_2 = np.argsort(peak_values)[-2:]\n",
    "        \n",
    "        peak_positions_in_pixels[shot_idx]=np.where(mask)[0][peak_pos[max_2] ]\n",
    "\n",
    "    return peak_positions_in_pixels.astype(int)\n",
    "\n",
    "def smooth_unmasked_area(shots, mask):\n",
    "    smoothed_shots=np.zeros( (shots.shape[0],np.where(mask)[0].shape[-1]) )\n",
    "    for shot_idx in range(shots.shape[0]):\n",
    "        try:\n",
    "            smoothed_shots[shot_idx]=smooth(shots[shot_idx][mask],window_size=11)\n",
    "        except ValueError:\n",
    "            print shot_idx\n",
    "            break\n",
    "    return smoothed_shots"
   ]
  },
  {
   "cell_type": "code",
   "execution_count": 2,
   "metadata": {},
   "outputs": [
    {
     "name": "stdout",
     "output_type": "stream",
     "text": [
      "[u'ebeam', u'event_time', u'evr', u'fiducials', u'gas_detector', u'phase_cav', u'polar_imgs', u'polar_mask', u'polar_mask_binned', u'polar_params', u'radial_profs']\n"
     ]
    }
   ],
   "source": [
    "run_num=11\n",
    "PT_dir = '/reg/d/psdm/cxi/cxilp6715/scratch/combined_tables/finer_q/'\n",
    "f_PI=h5py.File(os.path.join(PT_dir,'run%d.tbl'%run_num),'r')\n",
    "print f_PI.keys()\n",
    "mask = f_PI['polar_mask_binned'].value\n",
    "mask = (mask==mask.max())"
   ]
  },
  {
   "cell_type": "code",
   "execution_count": 68,
   "metadata": {},
   "outputs": [],
   "source": [
    "shots = f_PI['polar_imgs'].value[:10000,:5,:]*mask[:5]"
   ]
  },
  {
   "cell_type": "code",
   "execution_count": 69,
   "metadata": {},
   "outputs": [
    {
     "data": {
      "text/plain": [
       "[<matplotlib.lines.Line2D at 0x7f0059ef0b10>]"
      ]
     },
     "execution_count": 69,
     "metadata": {},
     "output_type": "execute_result"
    },
    {
     "data": {
      "image/png": "[encoded data removed]",
      "text/plain": [
       "<matplotlib.figure.Figure at 0x7f0059bd2150>"
      ]
     },
     "metadata": {},
     "output_type": "display_data"
    }
   ],
   "source": [
    "ave_shots = shots.sum(1)\n",
    "plt.plot(ave_shots.mean(0))"
   ]
  },
  {
   "cell_type": "code",
   "execution_count": 75,
   "metadata": {},
   "outputs": [
    {
     "data": {
      "text/plain": [
       "KMeans(algorithm='auto', copy_x=True, init='k-means++', max_iter=300,\n",
       "    n_clusters=3, n_init=10, n_jobs=1, precompute_distances='auto',\n",
       "    random_state=None, tol=0.0001, verbose=0)"
      ]
     },
     "execution_count": 75,
     "metadata": {},
     "output_type": "execute_result"
    }
   ],
   "source": [
    "norm_shots = ave_shots/ave_shots.mean(-1)[:,None]\n",
    "pca=PCA(n_components=10)\n",
    "new_shots=pca.fit_transform(norm_shots)\n",
    "components = pca.components_\n",
    "\n",
    "kmeans = KMeans( n_clusters=3)\n",
    "kmeans.fit( new_shots)"
   ]
  },
  {
   "cell_type": "code",
   "execution_count": 76,
   "metadata": {},
   "outputs": [
    {
     "data": {
      "text/plain": [
       "(80, 100)"
      ]
     },
     "execution_count": 76,
     "metadata": {},
     "output_type": "execute_result"
    },
    {
     "data": {
      "image/png": "[encoded data removed]",
      "text/plain": [
       "<matplotlib.figure.Figure at 0x7f0059ff1a50>"
      ]
     },
     "metadata": {},
     "output_type": "display_data"
    }
   ],
   "source": [
    "for ii in range(3):\n",
    "    plt.plot(components[ii])\n",
    "plt.xlim(80,100)"
   ]
  },
  {
   "cell_type": "code",
   "execution_count": null,
   "metadata": {},
   "outputs": [],
   "source": [
    "cluster_data=[]\n",
    "for ll in range(kmeans.n_clusters):\n",
    "    cluster_data.append(norm_shots[kmeans.labels_==ll])\n",
    "\n",
    "plt.figure(figsize = [12,6])\n",
    "for ii,cc in enumerate(cluster_data):\n",
    "\n",
    "    plt.plot(cc.mean(0),label=\"%d,%d\"%(ii, cc.shape[0]) )\n",
    "    plt.legend()\n",
    "# plt.xlim(260,280)\n",
    "# plt.xlim(90,100)"
   ]
  },
  {
   "cell_type": "code",
   "execution_count": 73,
   "metadata": {},
   "outputs": [
    {
     "name": "stdout",
     "output_type": "stream",
     "text": [
      "TRygin kmeans with 1 clusters (up to 12)\n",
      "TRygin kmeans with 2 clusters (up to 12)\n",
      "TRygin kmeans with 3 clusters (up to 12)\n",
      "TRygin kmeans with 4 clusters (up to 12)\n",
      "TRygin kmeans with 5 clusters (up to 12)\n",
      "TRygin kmeans with 6 clusters (up to 12)\n",
      "TRygin kmeans with 7 clusters (up to 12)\n",
      "TRygin kmeans with 8 clusters (up to 12)\n",
      "TRygin kmeans with 9 clusters (up to 12)\n",
      "TRygin kmeans with 10 clusters (up to 12)\n",
      "TRygin kmeans with 11 clusters (up to 12)\n",
      "TRygin kmeans with 12 clusters (up to 12)\n"
     ]
    },
    {
     "data": {
      "image/png": "[encoded data removed]",
      "text/plain": [
       "<matplotlib.figure.Figure at 0x7f0059dcef50>"
      ]
     },
     "metadata": {},
     "output_type": "display_data"
    }
   ],
   "source": [
    "make_elbow_plot(new_shots)"
   ]
  },
  {
   "cell_type": "code",
   "execution_count": null,
   "metadata": {},
   "outputs": [],
   "source": []
  },
  {
   "cell_type": "code",
   "execution_count": null,
   "metadata": {},
   "outputs": [],
   "source": []
  }
 ],
 "metadata": {
  "kernelspec": {
   "display_name": "Python 2 ana-1.3.10",
   "language": "python",
   "name": "ana-1.3.10"
  },
  "language_info": {
   "codemirror_mode": {
    "name": "ipython",
    "version": 2
   },
   "file_extension": ".py",
   "mimetype": "text/x-python",
   "name": "python",
   "nbconvert_exporter": "python",
   "pygments_lexer": "ipython2",
   "version": "2.7.13"
  }
 },
 "nbformat": 4,
 "nbformat_minor": 2
}
